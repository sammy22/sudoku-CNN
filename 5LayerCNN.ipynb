{
  "nbformat": 4,
  "nbformat_minor": 0,
  "metadata": {
    "accelerator": "GPU",
    "colab": {
      "name": "5LayerCNN.ipynb",
      "provenance": [],
      "collapsed_sections": [],
      "machine_shape": "hm"
    },
    "kernelspec": {
      "display_name": "Python 3",
      "name": "python3"
    },
    "language_info": {
      "name": "python"
    }
  },
  "cells": [
    {
      "cell_type": "markdown",
      "metadata": {
        "id": "P4QolLfncOBX"
      },
      "source": [
        "## 1. Importing Libraries"
      ]
    },
    {
      "cell_type": "code",
      "metadata": {
        "id": "0pTpFPTvBidM"
      },
      "source": [
        "# All imports here\n",
        "import numpy as np\n",
        "import pandas as pd\n",
        "from tensorflow.keras.optimizers import Adam\n",
        "from tensorflow.keras.models import Sequential\n",
        "from tensorflow.keras.layers import *\n",
        "from sklearn.model_selection import train_test_split\n",
        "from datetime import datetime\n",
        "import copy"
      ],
      "execution_count": null,
      "outputs": []
    },
    {
      "cell_type": "markdown",
      "metadata": {
        "id": "Y31kKFLscWbc"
      },
      "source": [
        "## 2. Paths to Dataset"
      ]
    },
    {
      "cell_type": "code",
      "metadata": {
        "id": "TLj6FCULCRxa"
      },
      "source": [
        "# Define the paths here\n",
        "one_million_path = \"/content/drive/MyDrive/Sudoku_Solver/data/1Million.csv\"\n",
        "nine_million_path = \"/content/drive/MyDrive/Sudoku_Solver/data/9Million.csv\""
      ],
      "execution_count": null,
      "outputs": []
    },
    {
      "cell_type": "markdown",
      "metadata": {
        "id": "Io1wVgrvcb85"
      },
      "source": [
        "## 3. Reading the Dataset"
      ]
    },
    {
      "cell_type": "code",
      "metadata": {
        "id": "1bbng9SOC5zS"
      },
      "source": [
        "# Read in pandas\n",
        "nine_million_dataset = pd.read_csv(nine_million_path,  nrows=2000000)"
      ],
      "execution_count": null,
      "outputs": []
    },
    {
      "cell_type": "code",
      "metadata": {
        "colab": {
          "base_uri": "https://localhost:8080/"
        },
        "id": "U-c4Kih2DWVp",
        "outputId": "bf9ce24d-6b88-474b-c7b0-6dfe7451c519"
      },
      "source": [
        "nine_million_dataset.columns"
      ],
      "execution_count": null,
      "outputs": [
        {
          "output_type": "execute_result",
          "data": {
            "text/plain": [
              "Index(['puzzle', 'solution'], dtype='object')"
            ]
          },
          "metadata": {},
          "execution_count": 6
        }
      ]
    },
    {
      "cell_type": "markdown",
      "metadata": {
        "id": "FUowGXGycgXT"
      },
      "source": [
        "## 4. Train-Test Data Split"
      ]
    },
    {
      "cell_type": "code",
      "metadata": {
        "id": "qXAU8H2EdYMa"
      },
      "source": [
        "def train_test_split_data(df, test_ratio=0.2): \n",
        "  questions = []\n",
        "  solutions = []\n",
        "\n",
        "  # Process questions and solutions\n",
        "  for idx, row in df.iterrows():\n",
        "    # Pre process question\n",
        "    question = row['puzzle']\n",
        "    question = (np.array(list(map(int,list(question)))).reshape((9,9,1))/9) - 0.5\n",
        "    # print(question.shape)\n",
        "    questions.append(question)\n",
        "\n",
        "    # Pre process solutions\n",
        "    solution = row['solution']\n",
        "    solution = (np.array(list(map(int,list(solution)))).reshape(81, 1)) - 1\n",
        "    # print(\"Solution\", solution.shape)\n",
        "    solutions.append(solution)\n",
        "\n",
        "  x_train, x_test, y_train, y_test = train_test_split(np.array(questions), np.array(solutions), test_size=test_ratio, random_state=42)\n",
        "\n",
        "  del(questions)\n",
        "  del(solutions)\n",
        "  \n",
        "  return x_train, x_test, y_train, y_test"
      ],
      "execution_count": null,
      "outputs": []
    },
    {
      "cell_type": "code",
      "metadata": {
        "id": "-oh8oTNWngQz"
      },
      "source": [
        "X_train, x_test, Y_train, y_test = train_test_split_data(nine_million_dataset)"
      ],
      "execution_count": null,
      "outputs": []
    },
    {
      "cell_type": "code",
      "metadata": {
        "colab": {
          "base_uri": "https://localhost:8080/"
        },
        "id": "1wHEfWiAD8c1",
        "outputId": "3183b05a-56ce-4ee8-a093-fc0218f77bda"
      },
      "source": [
        "print(len(X_train), len(Y_train), len(x_test), len(y_test))"
      ],
      "execution_count": null,
      "outputs": [
        {
          "output_type": "stream",
          "name": "stdout",
          "text": [
            "1600000 1600000 400000 400000\n"
          ]
        }
      ]
    },
    {
      "cell_type": "code",
      "metadata": {
        "colab": {
          "base_uri": "https://localhost:8080/"
        },
        "id": "_3E6N0NTEdD7",
        "outputId": "5cb3bc81-f1b0-4de6-8c66-4a5d97138cee"
      },
      "source": [
        "X_train.shape"
      ],
      "execution_count": null,
      "outputs": [
        {
          "output_type": "execute_result",
          "data": {
            "text/plain": [
              "(1600000, 9, 9, 1)"
            ]
          },
          "metadata": {},
          "execution_count": 10
        }
      ]
    },
    {
      "cell_type": "markdown",
      "metadata": {
        "id": "CHKMQxxvcvtX"
      },
      "source": [
        "## 5. Building the Model"
      ]
    },
    {
      "cell_type": "code",
      "metadata": {
        "id": "Y5mX8O5IK8_h"
      },
      "source": [
        "def build_model():\n",
        "\n",
        "  model = Sequential()\n",
        "\n",
        "  # Layer 1\n",
        "  model.add(Conv2D(64, kernel_size=(3,3), activation='relu', padding='same', input_shape=(9,9,1)))\n",
        "  model.add(BatchNormalization())\n",
        "\n",
        "  # Layer 2\n",
        "  model.add(Conv2D(64, kernel_size=(3,3), activation='relu', padding='same'))\n",
        "  model.add(BatchNormalization())\n",
        "\n",
        "  # Layer 3\n",
        "  model.add(Conv2D(64, kernel_size=(3,3), activation='relu', padding='same'))\n",
        "  model.add(BatchNormalization())\n",
        "\n",
        "  # Layer 4\n",
        "  model.add(Conv2D(64, kernel_size=(3,3), activation='relu', padding='same'))\n",
        "  model.add(BatchNormalization())\n",
        "\n",
        "  # Layer 5\n",
        "  model.add(Conv2D(128, kernel_size=(1,1), activation='relu', padding='same'))\n",
        "\n",
        "  model.add(Flatten())\n",
        "  model.add(Dense(81*9))\n",
        "  model.add(Reshape((-1, 9)))\n",
        "  model.add(Activation('softmax'))\n",
        "\n",
        "  adam = Adam(learning_rate=.001)\n",
        "  model.compile(loss='sparse_categorical_crossentropy', optimizer=adam, metrics=['accuracy'])\n",
        "\n",
        "  return model"
      ],
      "execution_count": null,
      "outputs": []
    },
    {
      "cell_type": "code",
      "metadata": {
        "colab": {
          "base_uri": "https://localhost:8080/"
        },
        "id": "dM6F447RPsga",
        "outputId": "da1ff910-86bd-4922-969f-5155287d5fab"
      },
      "source": [
        "sudoku_cnn = build_model()\n",
        "sudoku_cnn.summary()"
      ],
      "execution_count": null,
      "outputs": [
        {
          "output_type": "stream",
          "name": "stdout",
          "text": [
            "Model: \"sequential\"\n",
            "_________________________________________________________________\n",
            " Layer (type)                Output Shape              Param #   \n",
            "=================================================================\n",
            " conv2d (Conv2D)             (None, 9, 9, 64)          640       \n",
            "                                                                 \n",
            " batch_normalization (BatchN  (None, 9, 9, 64)         256       \n",
            " ormalization)                                                   \n",
            "                                                                 \n",
            " conv2d_1 (Conv2D)           (None, 9, 9, 64)          36928     \n",
            "                                                                 \n",
            " batch_normalization_1 (Batc  (None, 9, 9, 64)         256       \n",
            " hNormalization)                                                 \n",
            "                                                                 \n",
            " conv2d_2 (Conv2D)           (None, 9, 9, 64)          36928     \n",
            "                                                                 \n",
            " batch_normalization_2 (Batc  (None, 9, 9, 64)         256       \n",
            " hNormalization)                                                 \n",
            "                                                                 \n",
            " conv2d_3 (Conv2D)           (None, 9, 9, 64)          36928     \n",
            "                                                                 \n",
            " batch_normalization_3 (Batc  (None, 9, 9, 64)         256       \n",
            " hNormalization)                                                 \n",
            "                                                                 \n",
            " conv2d_4 (Conv2D)           (None, 9, 9, 128)         8320      \n",
            "                                                                 \n",
            " flatten (Flatten)           (None, 10368)             0         \n",
            "                                                                 \n",
            " dense (Dense)               (None, 729)               7559001   \n",
            "                                                                 \n",
            " reshape (Reshape)           (None, 81, 9)             0         \n",
            "                                                                 \n",
            " activation (Activation)     (None, 81, 9)             0         \n",
            "                                                                 \n",
            "=================================================================\n",
            "Total params: 7,679,769\n",
            "Trainable params: 7,679,257\n",
            "Non-trainable params: 512\n",
            "_________________________________________________________________\n"
          ]
        }
      ]
    },
    {
      "cell_type": "markdown",
      "metadata": {
        "id": "c_mRAU2tc3s-"
      },
      "source": [
        "##6. Training the Model"
      ]
    },
    {
      "cell_type": "code",
      "metadata": {
        "colab": {
          "base_uri": "https://localhost:8080/"
        },
        "id": "cKl1ryNGnELl",
        "outputId": "ac34ea72-8bb9-44ec-bb34-5ef78eb4242e"
      },
      "source": [
        "sudoku_cnn.fit(X_train, Y_train, batch_size=128, epochs=15)"
      ],
      "execution_count": null,
      "outputs": [
        {
          "output_type": "stream",
          "name": "stdout",
          "text": [
            "Epoch 1/15\n",
            "50000/50000 [==============================] - 288s 6ms/step - loss: 0.4317 - accuracy: 0.7985\n",
            "Epoch 2/15\n",
            "50000/50000 [==============================] - 279s 6ms/step - loss: 0.3777 - accuracy: 0.8210\n",
            "Epoch 3/15\n",
            "50000/50000 [==============================] - 279s 6ms/step - loss: 0.3700 - accuracy: 0.8261\n",
            "Epoch 4/15\n",
            "50000/50000 [==============================] - 277s 6ms/step - loss: 0.3657 - accuracy: 0.8288\n",
            "Epoch 5/15\n",
            "50000/50000 [==============================] - 277s 6ms/step - loss: 0.3630 - accuracy: 0.8306\n",
            "Epoch 6/15\n",
            "50000/50000 [==============================] - 277s 6ms/step - loss: 0.3610 - accuracy: 0.8318\n",
            "Epoch 7/15\n",
            "50000/50000 [==============================] - 277s 6ms/step - loss: 0.3595 - accuracy: 0.8327\n",
            "Epoch 8/15\n",
            "50000/50000 [==============================] - 278s 6ms/step - loss: 0.3584 - accuracy: 0.8334\n",
            "Epoch 9/15\n",
            "50000/50000 [==============================] - 278s 6ms/step - loss: 0.3575 - accuracy: 0.8340\n",
            "Epoch 10/15\n",
            "50000/50000 [==============================] - 277s 6ms/step - loss: 0.3567 - accuracy: 0.8345\n",
            "Epoch 11/15\n",
            "50000/50000 [==============================] - 277s 6ms/step - loss: 0.3560 - accuracy: 0.8349\n",
            "Epoch 12/15\n",
            "50000/50000 [==============================] - 277s 6ms/step - loss: 0.3554 - accuracy: 0.8353\n",
            "Epoch 13/15\n",
            "50000/50000 [==============================] - 277s 6ms/step - loss: 0.3548 - accuracy: 0.8356\n",
            "Epoch 14/15\n",
            "50000/50000 [==============================] - 277s 6ms/step - loss: 0.3543 - accuracy: 0.8359\n",
            "Epoch 15/15\n",
            "50000/50000 [==============================] - 277s 6ms/step - loss: 0.3538 - accuracy: 0.8362\n"
          ]
        },
        {
          "output_type": "execute_result",
          "data": {
            "text/plain": [
              "<keras.callbacks.History at 0x7fd96d56d450>"
            ]
          },
          "metadata": {},
          "execution_count": 15
        }
      ]
    },
    {
      "cell_type": "markdown",
      "metadata": {
        "id": "FW1wzbSZdCIa"
      },
      "source": [
        "## 7. Solving Sudoku cell by cell using CNN"
      ]
    },
    {
      "cell_type": "code",
      "metadata": {
        "id": "LnoIk60BeGJB"
      },
      "source": [
        "class SudokuCNN:\n",
        "\n",
        "  def get_accuracy(self,feats, labels, model): \n",
        "    start = datetime.now()\n",
        "    correct = 0\n",
        "    for i,feat in enumerate(feats): \n",
        "      pred = self.inference_sudoku(feat, model)\n",
        "      true = labels[i].reshape((9,9))+1\n",
        "      if(abs(true - pred).sum()==0):\n",
        "          correct += 1         \n",
        "    print(correct/feats.shape[0])\n",
        "    print(datetime.now()-start) \n",
        "\n",
        "  def denormalize(self,a):\n",
        "      return (a+.5)*9\n",
        "\n",
        "  def normalize(self,a):\n",
        "      return (a/9)-.5\n",
        "\n",
        "  def inference_sudoku(self,sample, model):\n",
        "    feat = copy.copy(sample)\n",
        "    while(1):\n",
        "      out = model.predict(feat.reshape((1,9,9,1)))  \n",
        "      out = out.squeeze()\n",
        "\n",
        "      pred = np.argmax(out, axis=1).reshape((9,9))+1 \n",
        "      prob = np.around(np.max(out, axis=1).reshape((9,9)), 2) \n",
        "      \n",
        "      feat = self.denormalize(feat).reshape((9,9))\n",
        "      mask = (feat==0)\n",
        "    \n",
        "      if(mask.sum()==0):\n",
        "          break\n",
        "          \n",
        "      prob_new = prob*mask\n",
        "\n",
        "      ind = np.argmax(prob_new)\n",
        "      x, y = (ind//9), (ind%9)\n",
        "\n",
        "      val = pred[x][y]\n",
        "      feat[x][y] = val\n",
        "      feat = self.normalize(feat)\n",
        "    \n",
        "    return pred"
      ],
      "execution_count": null,
      "outputs": []
    },
    {
      "cell_type": "markdown",
      "metadata": {
        "id": "CwHxT2s_eDYq"
      },
      "source": [
        "##9. Train accuracy"
      ]
    },
    {
      "cell_type": "code",
      "metadata": {
        "id": "3TsE921vbaXi"
      },
      "source": [
        "sudoku_predictor = SudokuCNN()\n",
        "sudoku_predictor.get_accuracy(X_train[:100], Y_train[:100], sudoku_cnn)"
      ],
      "execution_count": null,
      "outputs": []
    },
    {
      "cell_type": "markdown",
      "metadata": {
        "id": "seDQXcufeKD6"
      },
      "source": [
        "##10. Test Accuracy"
      ]
    },
    {
      "cell_type": "code",
      "metadata": {
        "colab": {
          "base_uri": "https://localhost:8080/"
        },
        "id": "yT-9ZSZUelIr",
        "outputId": "1d0268a4-0931-406a-b4c2-5baf352b8bf2"
      },
      "source": [
        "sudoku_predictor.get_accuracy(x_test[:100], y_test[:100], sudoku_cnn)"
      ],
      "execution_count": null,
      "outputs": [
        {
          "output_type": "stream",
          "name": "stdout",
          "text": [
            "0.92\n",
            "0:03:31.891644\n"
          ]
        }
      ]
    },
    {
      "cell_type": "code",
      "metadata": {
        "id": "prn57X-MBWca"
      },
      "source": [
        "sudoku_cnn.save(\"/content/drive/MyDrive/Sudoku_Solver/data/model_{2M}_{15E}_{92A}.h5\")"
      ],
      "execution_count": null,
      "outputs": []
    },
    {
      "cell_type": "markdown",
      "metadata": {
        "id": "AIuRlPsecNvp"
      },
      "source": [
        "## 11. Predicting the results for 100 Sudoku problems"
      ]
    },
    {
      "cell_type": "code",
      "metadata": {
        "colab": {
          "base_uri": "https://localhost:8080/"
        },
        "id": "T09sF-z5SAGS",
        "outputId": "f48a7f27-0517-49c2-e439-ab9d25004439"
      },
      "source": [
        "def predict_blanks(x_test, y_test):\n",
        "\n",
        "  start = datetime.now()\n",
        "  correct = 0\n",
        "  error = 0\n",
        "\n",
        "  for question, solution in zip(x_test, y_test):\n",
        "\n",
        "    out = solver1.predict(question.reshape(1, 9, 9, 1))\n",
        "    out = out.squeeze()\n",
        "\n",
        "    predicted = np.argmax(out, axis=1) + 1\n",
        "    question = ((question+0.5)*9).reshape(81, -1)\n",
        "    indices = np.where(question == 0)[0]\n",
        "\n",
        "    solution = solution.squeeze()\n",
        "    # print([indices])\n",
        "\n",
        "    diff = abs(predicted[indices]-solution[indices])\n",
        "    error += len(np.where(diff != 0)[0])/len(indices)\n",
        "    if abs(solution-predicted).sum() == 0:\n",
        "      correct += 1\n",
        "\n",
        "  print(\"Total Error: \", error)\n",
        "  print(\"Percentage\", error/100)\n",
        "  print(\"Time Taken: \", datetime.now()-start)\n",
        "  print(\"Correct Solutions: \", correct)"
      ],
      "execution_count": null,
      "outputs": [
        {
          "output_type": "stream",
          "name": "stdout",
          "text": [
            "Total Error:  96.33389342214711\n",
            "Percentage 0.9633389342214711\n",
            "Time Taken:  0:00:03.666041\n",
            "Correct Solutions:  0\n"
          ]
        }
      ]
    },
    {
      "cell_type": "code",
      "metadata": {
        "id": "Cld08zvoUpKd"
      },
      "source": [
        "predict_blanks(x_test[:100],y_test[:100])"
      ],
      "execution_count": null,
      "outputs": []
    },
    {
      "cell_type": "markdown",
      "metadata": {
        "id": "lEygzYoDeQww"
      },
      "source": [
        "##11. Backtracking Algorithm to Solve Sudoku"
      ]
    },
    {
      "cell_type": "code",
      "metadata": {
        "id": "2kEk6-5QXfEK"
      },
      "source": [
        "class Backtrack:\n",
        "\n",
        "    def solve_sudoku(self, board) -> None:\n",
        "        if self.backtrack(board, 0, 0):\n",
        "          return\n",
        "\n",
        "    def denormalize(self,a):\n",
        "      return (a+.5)*9\n",
        "                    \n",
        "    def backtrack(self, board, r: int, c: int) -> bool:\n",
        "        # Go to next empty space\n",
        "        while board[r][c] != 0:\n",
        "            c += 1\n",
        "            if c == 9: c, r = 0, r+1\n",
        "            if r == 9: return True\n",
        "        # Try all options, backtracking if not work\n",
        "        for k in range(1, 10):\n",
        "            if self.is_valid_sudoku_move(board, r, c, k):\n",
        "                board[r][c] = k\n",
        "                if self.backtrack(board, r, c):\n",
        "                    return True\n",
        "        board[r][c] = 0\n",
        "        return False\n",
        "    \n",
        "    def is_valid_sudoku_move(self, board, r: int, c: int, cand: int) -> bool:\n",
        "        # Check row\n",
        "        if any(board[r][j] == cand for j in range(9)): return False\n",
        "        # Check col\n",
        "        if any(board[i][c] == cand for i in range(9)): return False\n",
        "        # Check block\n",
        "        br, bc = 3*(r//3), 3*(c//3)\n",
        "        if any(board[i][j] == cand for i in range(br, br+3) for j in range(bc, bc+3)): return False\n",
        "        return True"
      ],
      "execution_count": null,
      "outputs": []
    },
    {
      "cell_type": "markdown",
      "metadata": {
        "id": "NCuc5RfSem_M"
      },
      "source": [
        "##12. Evaluating Backtrack Algorithm"
      ]
    },
    {
      "cell_type": "code",
      "metadata": {
        "colab": {
          "base_uri": "https://localhost:8080/"
        },
        "id": "ENScYnKTmj8W",
        "outputId": "45af86c6-79f9-440f-ea89-80d2057e0cc1"
      },
      "source": [
        "def evaluate_backtrack(x_test):\n",
        "\n",
        "  backtrack = Backtrack()\n",
        "  backtrack_test = backtrack.denormalize(x_test)\n",
        "  start = datetime.now()\n",
        "\n",
        "  print(backtrack_test.shape)\n",
        "\n",
        "  for puzzle in backtrack_test:\n",
        "    backtrack.solve_sudoku(puzzle.reshape(9,9))\n",
        "\n",
        "  print(\"Time taken: \", datetime.now() - start)"
      ],
      "execution_count": null,
      "outputs": [
        {
          "output_type": "stream",
          "name": "stdout",
          "text": [
            "(100, 9, 9, 1)\n",
            "Time taken:  0:00:04.665841\n"
          ]
        }
      ]
    },
    {
      "cell_type": "code",
      "metadata": {
        "id": "sU9M8bEwVffG"
      },
      "source": [
        "evaluate_backtrack(x_test[:100])"
      ],
      "execution_count": null,
      "outputs": []
    }
  ]
}